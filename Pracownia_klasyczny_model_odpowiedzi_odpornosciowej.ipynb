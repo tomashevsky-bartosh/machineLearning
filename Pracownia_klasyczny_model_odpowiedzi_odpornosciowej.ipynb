{
  "nbformat": 4,
  "nbformat_minor": 0,
  "metadata": {
    "colab": {
      "provenance": [],
      "authorship_tag": "ABX9TyOHn9fpPPwHPYjCcy77eVox",
      "include_colab_link": true
    },
    "kernelspec": {
      "name": "python3",
      "display_name": "Python 3"
    },
    "language_info": {
      "name": "python"
    }
  },
  "cells": [
    {
      "cell_type": "markdown",
      "metadata": {
        "id": "view-in-github",
        "colab_type": "text"
      },
      "source": [
        "<a href=\"https://colab.research.google.com/github/blue-within-blue-ice/machineLearning/blob/main/Pracownia_klasyczny_model_odpowiedzi_odpornosciowej.ipynb\" target=\"_parent\"><img src=\"https://colab.research.google.com/assets/colab-badge.svg\" alt=\"Open In Colab\"/></a>"
      ]
    },
    {
      "cell_type": "code",
      "execution_count": null,
      "metadata": {
        "colab": {
          "base_uri": "https://localhost:8080/",
          "height": 265
        },
        "id": "GO_O3FzuIEXX",
        "outputId": "0c4375bd-d71d-4aee-9a00-57bffb2498ee"
      },
      "outputs": [
        {
          "output_type": "display_data",
          "data": {
            "text/plain": [
              "<Figure size 432x288 with 1 Axes>"
            ],
            "image/png": "[encoded data removed]"
          },
          "metadata": {
            "needs_background": "light"
          }
        }
      ],
      "source": [
        "import numpy as np\n",
        "import matplotlib.pyplot as plt \n",
        "\n",
        "V = [15] #wartosc początkowa\n",
        "E = [6.5] #wartosc poczatkowa\n",
        "\n",
        "#parametry modelu\n",
        "beta = 0.2\n",
        "gamma = 0.1\n",
        "eta = 0.1\n",
        "v = 0.1\n",
        "\n",
        "\n",
        "dt = 0.1 #przyrost czasu\n",
        "czasy = [0]\n",
        "for i in range(100):\n",
        "    Vp = beta*V[-1] - gamma*V[-1]*E[-1] #pochodna V\n",
        "    Ep = eta*V[-1] - v*V[-1]*E[-1] #pochodna E\n",
        "    V.append(V[-1]+Vp*dt)\n",
        "    E.append(E[-1]+Ep*dt)\n",
        "    czasy.append(dt+(i+1)*dt)\n",
        "\n",
        "plt.plot(czasy, V, c = \"red\")\n",
        "plt.plot(czasy, E, c = \"blue\")\n",
        "plt.show()"
      ]
    },
    {
      "cell_type": "code",
      "source": [
        "V = [15] #wartosc początkowa\n",
        "E = [6.5] #wartosc poczatkowa\n",
        "\n",
        "#parametry modelu\n",
        "beta = 0.2\n",
        "gamma = 0.1\n",
        "eta = 0.5\n",
        "v = 0.1\n",
        "\n",
        "\n",
        "dt = 0.1 #przyrost czasu\n",
        "czasy = [0]\n",
        "for i in range(100):\n",
        "    Vp = beta*V[-1] - gamma*V[-1]*E[-1] #pochodna V\n",
        "    Ep = eta*V[-1] - v*V[-1]*E[-1] #pochodna E\n",
        "    V.append(V[-1]+Vp*dt)\n",
        "    E.append(E[-1]+Ep*dt)\n",
        "    czasy.append(dt+(i+1)*dt)\n",
        "\n",
        "plt.plot(czasy, V, c = \"red\")\n",
        "plt.plot(czasy, E, c = \"blue\")\n",
        "plt.show()"
      ],
      "metadata": {
        "colab": {
          "base_uri": "https://localhost:8080/",
          "height": 265
        },
        "id": "0WTz5AaO7wOj",
        "outputId": "8ad965b1-eefa-4cf4-a4ff-0070508760a5"
      },
      "execution_count": null,
      "outputs": [
        {
          "output_type": "display_data",
          "data": {
            "text/plain": [
              "<Figure size 432x288 with 1 Axes>"
            ],
            "image/png": "[encoded data removed]"
          },
          "metadata": {
            "needs_background": "light"
          }
        }
      ]
    },
    {
      "cell_type": "code",
      "source": [
        "V = [15] #wartosc początkowa\n",
        "E = [6.5] #wartosc poczatkowa\n",
        "\n",
        "#parametry modelu\n",
        "beta = 0.4\n",
        "gamma = 0.2\n",
        "eta = 0.3\n",
        "v = 0.1\n",
        "\n",
        "\n",
        "dt = 0.1 #przyrost czasu\n",
        "czasy = [0]\n",
        "for i in range(100):\n",
        "    Vp = beta*V[-1] - gamma*V[-1]*E[-1] #pochodna V\n",
        "    Ep = eta*V[-1] - v*V[-1]*E[-1] #pochodna E\n",
        "    V.append(V[-1]+Vp*dt)\n",
        "    E.append(E[-1]+Ep*dt)\n",
        "    czasy.append(dt+(i+1)*dt)\n",
        "\n",
        "plt.plot(czasy, V, c = \"red\")\n",
        "plt.plot(czasy, E, c = \"blue\")\n",
        "plt.show()"
      ],
      "metadata": {
        "colab": {
          "base_uri": "https://localhost:8080/",
          "height": 265
        },
        "id": "vHcZVZ9Z4v1G",
        "outputId": "05da5114-dbcc-4952-a90f-1abd77a4b44b"
      },
      "execution_count": null,
      "outputs": [
        {
          "output_type": "display_data",
          "data": {
            "text/plain": [
              "<Figure size 432x288 with 1 Axes>"
            ],
            "image/png": "[encoded data removed]"
          },
          "metadata": {
            "needs_background": "light"
          }
        }
      ]
    },
    {
      "cell_type": "code",
      "source": [
        "V = [15] #wartosc początkowa\n",
        "E = [6.5] #wartosc poczatkowa\n",
        "\n",
        "#parametry modelu\n",
        "beta = 0.4\n",
        "gamma = 0.1\n",
        "eta = 0.1\n",
        "v = 0.1\n",
        "\n",
        "\n",
        "dt = 0.1 #przyrost czasu\n",
        "czasy = [0]\n",
        "for i in range(100):\n",
        "    Vp = beta*V[-1] - gamma*V[-1]*E[-1] #pochodna V\n",
        "    Ep = eta*V[-1] - v*V[-1]*E[-1] #pochodna E\n",
        "    V.append(V[-1]+Vp*dt)\n",
        "    E.append(E[-1]+Ep*dt)\n",
        "    czasy.append(dt+(i+1)*dt)\n",
        "\n",
        "plt.plot(czasy, V, c = \"red\")\n",
        "plt.plot(czasy, E, c = \"blue\")\n",
        "plt.show()"
      ],
      "metadata": {
        "colab": {
          "base_uri": "https://localhost:8080/",
          "height": 265
        },
        "id": "FvHsNP8XzacX",
        "outputId": "cb8d45fc-518f-49fd-dc01-e2cae5d09f24"
      },
      "execution_count": null,
      "outputs": [
        {
          "output_type": "display_data",
          "data": {
            "text/plain": [
              "<Figure size 432x288 with 1 Axes>"
            ],
            "image/png": "[encoded data removed]"
          },
          "metadata": {
            "needs_background": "light"
          }
        }
      ]
    },
    {
      "cell_type": "markdown",
      "source": [
        "Model Marczuka przy założeniu m mniejszego od progowej wartości m* -> xi(m) = 1"
      ],
      "metadata": {
        "id": "FFhMjuBBzSrU"
      }
    },
    {
      "cell_type": "code",
      "source": [
        "import numpy\n",
        "import matplotlib.pyplot as plt"
      ],
      "metadata": {
        "id": "pT1DsB7ozWuu"
      },
      "execution_count": 1,
      "outputs": []
    },
    {
      "cell_type": "code",
      "source": [
        "# wartości początkowe dla układu\n",
        "V = [5]  # zagęszczenie populacji antygenu\n",
        "F = [0.5]  # stężenie przeciwciał\n",
        "C = [0.1]  # zagęszczenie komórek plazmatycznych\n",
        "m = [0]  # stopień zniszczenia organu\n",
        "\n",
        "# parametry modelu\n",
        "\n",
        "# parametry dotyczące V\n",
        "beta = 0.7  # stały współczynnik reprodukcji >0\n",
        "gamma = 2.5  # prawdopodobieństwo związania antygennu >0\n",
        "\n",
        "# parametry dotyczące F\n",
        "eta = 3  # frakcja przeciwciał ginących w reakcji odpornościowej\n",
        "ro = 1  # tempo produkcji przeciwciał >0\n",
        "uf = 0.3  # średni czas przetrwania przeciwciał\n",
        "\n",
        "#parametry dotyczące C\n",
        "alfa = 5 # współczynnik immunogenności\n",
        "tal = 0  # stałe opóźnienie produkcji komórek plazmatycznych\n",
        "uc = 0.3  # średni czas życia komórek plazmatycznych\n",
        "\n",
        "# parametry dotyczące m\n",
        "sigma = 20 # zdolność antygenu do niszczenia organu\n",
        "xi = 1  # nierosnąca funkcja zmiennej m\n",
        "Cgw = 1  # neutralny poziom przeciwciał występujących w organiźmie"
      ],
      "metadata": {
        "id": "ebmxOT7F0QBR"
      },
      "execution_count": 39,
      "outputs": []
    },
    {
      "cell_type": "markdown",
      "source": [
        "Zastanawiam się nad wartością tał, jak ją dokładnie zrealizować. Czy pierwsze uruchomienie zrealizować osobno, żeby możliwe było wyciągnięcie poprzedniego elementu.\n",
        "\n",
        "Na ten moment przyjąłem tał równe 0."
      ],
      "metadata": {
        "id": "Y2MGCBNAFsJd"
      }
    },
    {
      "cell_type": "code",
      "source": [
        "dt = 0.1  # przyrost czasu\n",
        "t = [0]\n",
        "\n",
        "for i in range(100):\n",
        "  Vt = (beta - gamma * F[-1]) * V[-1]\n",
        "  Ct = alfa * V[-1] * F[-1] - uc * (C[-1] - Cgw)\n",
        "  Ft = ro * C[-1] - (uf + eta * gamma * V[-1]) * F[-1]\n",
        "\n",
        "  V.append(V[-1] * Vt*dt)\n",
        "  C.append(C[-1] * Ct*dt)\n",
        "  F.append(F[-1] * Ft*dt)\n",
        "  t.append(dt+(i+1)*dt)\n",
        "\n",
        "plt.plot(t, V, c = \"red\")\n",
        "plt.plot(t, C, c = \"blue\")\n",
        "plt.plot(t, F, c = \"green\")\n",
        "plt.show()"
      ],
      "metadata": {
        "colab": {
          "base_uri": "https://localhost:8080/",
          "height": 265
        },
        "id": "VNHbQgLhEMfl",
        "outputId": "1550ea23-f13e-4a4c-e11b-da7a6031946a"
      },
      "execution_count": 40,
      "outputs": [
        {
          "output_type": "display_data",
          "data": {
            "text/plain": [
              "<Figure size 432x288 with 1 Axes>"
            ],
            "image/png": "[encoded data removed]"
          },
          "metadata": {
            "needs_background": "light"
          }
        }
      ]
    },
    {
      "cell_type": "markdown",
      "source": [
        "Tutaj myślę, żeby poszukać jakiś prac z których można by było wyciągnąć parametry i w oparciu o nie spróbować wytrenować model wynajdujący odpowiednie."
      ],
      "metadata": {
        "id": "AXrwWsjnPlt8"
      }
    }
  ]
}